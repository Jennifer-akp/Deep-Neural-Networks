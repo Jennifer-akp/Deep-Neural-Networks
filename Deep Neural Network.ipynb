{
 "cells": [
  {
   "cell_type": "markdown",
   "metadata": {},
   "source": [
    "### Import Libraries\n"
   ]
  },
  {
   "cell_type": "code",
   "execution_count": 143,
   "metadata": {},
   "outputs": [],
   "source": [
    "import numpy as np\n",
    "import matplotlib.pyplot as plt\n",
    "import tensorflow as tf\n",
    "from scipy.io import loadmat\n",
    "import numpy as np\n",
    "from sklearn.model_selection import train_test_split\n",
    "from sklearn.preprocessing import StandardScaler as ss\n",
    "from sklearn.metrics import confusion_matrix\n",
    "from sklearn import metrics\n",
    "\n",
    "# define the neural networks\n",
    "from keras import regularizers, optimizers\n",
    "from keras.utils import to_categorical\n",
    "from keras.models import Sequential\n",
    "from keras.layers import Dense, Activation, Dropout\n",
    "from keras.layers import Conv1D, GlobalAveragePooling1D"
   ]
  },
  {
   "cell_type": "markdown",
   "metadata": {},
   "source": [
    "### 1. Formatting raw data to Deep Convolutional Neural Network\n"
   ]
  },
  {
   "cell_type": "markdown",
   "metadata": {},
   "source": [
    "#### standardize the data before combining or stacking the attributes. (Note that all the reported attributes are measured in the same units (gravity) and in similar order of magnitude so standardizing may have marginal effects)"
   ]
  },
  {
   "cell_type": "code",
   "execution_count": 121,
   "metadata": {},
   "outputs": [],
   "source": [
    "##load the train data set\n",
    "TrainData= loadmat('./Desktop/DataSet/rawSensorData_train.mat')\n",
    "##display (TrainData)\n",
    "\n",
    "##rename all features (6 features in total)\n",
    "gyro_x_train = TrainData['body_gyro_x_train']\n",
    "gyro_y_train = TrainData['body_gyro_y_train']\n",
    "gyro_z_train = TrainData['body_gyro_z_train']\n",
    "\n",
    "acc_x_train = TrainData ['total_acc_x_train']\n",
    "acc_y_train = TrainData ['total_acc_y_train']\n",
    "acc_z_train = TrainData ['total_acc_z_train']\n",
    "\n",
    "\n"
   ]
  },
  {
   "cell_type": "code",
   "execution_count": 122,
   "metadata": {},
   "outputs": [],
   "source": [
    "##load test data set\n",
    "TestData = loadmat('./Desktop/DataSet/rawSensorData_test.mat')\n",
    "##display(TestData)\n",
    "\n",
    "##rename all features (6 features in total)\n",
    "gyro_x_test = TestData['body_gyro_x_test']\n",
    "gyro_y_test = TestData['body_gyro_y_test']\n",
    "gyro_z_test = TestData['body_gyro_z_test']\n",
    "\n",
    "acc_x_test = TestData ['total_acc_x_test']\n",
    "acc_y_test = TestData ['total_acc_y_test']\n",
    "acc_z_test = TestData ['total_acc_z_test']\n"
   ]
  },
  {
   "cell_type": "code",
   "execution_count": 123,
   "metadata": {},
   "outputs": [],
   "source": [
    "##standardizing the train and test data set\n",
    "sc = ss()\n",
    "\n",
    "##for gyroscope\n",
    "gyro_x_train_1 = sc.fit_transform(gyro_x_train)\n",
    "gyro_x_test_1 = sc.transform(gyro_x_test)\n",
    "\n",
    "gyro_y_train_1 = sc.fit_transform(gyro_y_train)\n",
    "gyro_y_test_1 = sc.transform(gyro_y_test)\n",
    "\n",
    "gyro_z_train_1 = sc.fit_transform(gyro_z_train)\n",
    "gyro_z_test_1 = sc.transform(gyro_z_test)\n",
    "\n",
    "##for accelerometer\n",
    "acc_x_train_1 = sc.fit_transform(acc_x_train)\n",
    "acc_x_test_1 = sc.transform(acc_x_test)\n",
    "\n",
    "acc_y_train_1 = sc.fit_transform(acc_y_train)\n",
    "acc_y_test_1 = sc.transform(acc_y_test)\n",
    "\n",
    "acc_z_train_1 = sc.fit_transform(acc_z_train)\n",
    "acc_z_test_1 = sc.transform(acc_z_test)"
   ]
  },
  {
   "cell_type": "markdown",
   "metadata": {},
   "source": [
    "#### Consider each attribute in the training [7352,128] will be stacked in the “axis=2” dimension (counting from 0), often called an input channel. We use np.stack so we obtain [7352,128,6] array, corresponding to [axis=0,1,2] as [num_samples, num_timesteps, num_attributes]. "
   ]
  },
  {
   "cell_type": "code",
   "execution_count": 124,
   "metadata": {},
   "outputs": [
    {
     "data": {
      "text/plain": [
       "(7352, 128, 6)"
      ]
     },
     "execution_count": 124,
     "metadata": {},
     "output_type": "execute_result"
    }
   ],
   "source": [
    "TrainData1 = np.stack([acc_x_train_1,\n",
    "                      acc_y_train_1,\n",
    "                      acc_z_train_1,\n",
    "                      gyro_x_train_1,\n",
    "                      gyro_y_train_1,\n",
    "                      gyro_z_train_1], axis = 2)\n",
    "##display (TrainData1[0:5])\n",
    "TrainData1.shape"
   ]
  },
  {
   "cell_type": "markdown",
   "metadata": {},
   "source": [
    "####  Repeat for test data. \n"
   ]
  },
  {
   "cell_type": "code",
   "execution_count": 125,
   "metadata": {},
   "outputs": [
    {
     "data": {
      "text/plain": [
       "(2947, 128, 6)"
      ]
     },
     "execution_count": 125,
     "metadata": {},
     "output_type": "execute_result"
    }
   ],
   "source": [
    "TestData1 = np.stack([acc_x_test_1,\n",
    "                      acc_y_test_1,\n",
    "                      acc_z_test_1,\n",
    "                      gyro_x_test_1,\n",
    "                      gyro_y_test_1,\n",
    "                      gyro_z_test_1], axis = 2)\n",
    "##display (TestData1[0:5])\n",
    "TestData1.shape"
   ]
  },
  {
   "cell_type": "markdown",
   "metadata": {},
   "source": [
    "#### Convert labels (1 to 5) to 0 to 4, and perform one-hot encoding."
   ]
  },
  {
   "cell_type": "code",
   "execution_count": 126,
   "metadata": {},
   "outputs": [
    {
     "name": "stdout",
     "output_type": "stream",
     "text": [
      "train label shape (7352, 1)\n",
      "test label shape (2947, 1)\n"
     ]
    }
   ],
   "source": [
    "#obtain the labels. \n",
    "labels = loadmat('./Desktop/DataSet/labels.mat')\n",
    "train_labels = labels['train_labels']\n",
    "test_labels = labels['test_labels']\n",
    "\n",
    "print('train label shape', train_labels.shape)\n",
    "print('test label shape',test_labels.shape)\n",
    "\n",
    "#encode/transform so the class starts at 0 to 4 rather than 1 to 5.\n",
    "dict = {1:0,2:1,3:2,4:3,5:4}\n",
    "train_labels = np.vectorize(dict.get)(train_labels)\n",
    "test_labels = np.vectorize(dict.get)(test_labels)\n",
    "\n",
    "\n",
    "#convert to one-hot\n",
    "train_labels_enc = to_categorical(train_labels)\n",
    "test_labels_enc = to_categorical(test_labels)\n",
    "\n",
    "# display (train_labels_enc [0:5])\n",
    "# display (test_labels_enc [0:5])"
   ]
  },
  {
   "cell_type": "markdown",
   "metadata": {},
   "source": [
    "### 2. Implement the Deep Neural Network Classifier: Note the parameter and layer tuning is usually up to the designer, here is my architecture and tuning which converges. If your computer has “Out of memory” problem, consider reducing the number of neurons, and the batchsize in step h.\n"
   ]
  },
  {
   "cell_type": "code",
   "execution_count": 127,
   "metadata": {},
   "outputs": [
    {
     "name": "stdout",
     "output_type": "stream",
     "text": [
      "128\n",
      "6\n",
      "5\n"
     ]
    }
   ],
   "source": [
    "#parameters for neural net\n",
    "num_inputs = TrainData1.shape[1] # Total number 0f input variables (per sample)\n",
    "num_channels = TrainData1.shape[2] #number of channels (1)\n",
    "num_labels = train_labels_enc.shape[1] # Total number of output labels - 3.\n",
    "\n",
    "print (num_inputs)\n",
    "print (num_channels)\n",
    "print (num_labels)"
   ]
  },
  {
   "cell_type": "markdown",
   "metadata": {},
   "source": [
    "#### a. Use a Conv1D layer with 100 filters, a sliding kernel filter of 10, padding=’causal’, Relu activation, and input shape of [num_timesteps, num_attributes]\n"
   ]
  },
  {
   "cell_type": "code",
   "execution_count": 128,
   "metadata": {},
   "outputs": [],
   "source": [
    "#build CNN MODEL\n",
    "model = Sequential()  \n",
    "model.add(Conv1D(100, 10, padding='causal', activation='relu', input_shape=(num_inputs, num_channels)))\n",
    "model.add(Activation('relu'))"
   ]
  },
  {
   "cell_type": "markdown",
   "metadata": {},
   "source": [
    "#### b. Add another Conv1D layer with 150 filters, sliding kernel of 20, padding=’causal’, Relu activation. "
   ]
  },
  {
   "cell_type": "code",
   "execution_count": 129,
   "metadata": {},
   "outputs": [],
   "source": [
    "model.add(Conv1D(150, 20, padding='causal', activation='relu', input_shape=(num_inputs, num_channels)))\n",
    "model.add(Activation('relu'))"
   ]
  },
  {
   "cell_type": "markdown",
   "metadata": {},
   "source": [
    "#### c. Use the “GlobalAveragePooling1D” to reduce the convolutional output to a 1D vector to use as features to a standard neural network (dense layer and output) "
   ]
  },
  {
   "cell_type": "code",
   "execution_count": 130,
   "metadata": {},
   "outputs": [],
   "source": [
    "model.add(GlobalAveragePooling1D())"
   ]
  },
  {
   "cell_type": "markdown",
   "metadata": {},
   "source": [
    "#### d. Add a dense layer with 128 neurons, followed by ‘relu” activation. "
   ]
  },
  {
   "cell_type": "code",
   "execution_count": 131,
   "metadata": {},
   "outputs": [],
   "source": [
    "model.add(Dense(128))\n",
    "model.add(Activation('relu'))"
   ]
  },
  {
   "cell_type": "markdown",
   "metadata": {},
   "source": [
    "#### e. Add a dropout layer with dropout probability of 50%"
   ]
  },
  {
   "cell_type": "code",
   "execution_count": 132,
   "metadata": {},
   "outputs": [],
   "source": [
    "model.add(Dropout(0.5))"
   ]
  },
  {
   "cell_type": "markdown",
   "metadata": {},
   "source": [
    "#### f. In the output layer, specify a N=5 neuron output, with ‘softmax’ activation "
   ]
  },
  {
   "cell_type": "code",
   "execution_count": 133,
   "metadata": {},
   "outputs": [
    {
     "name": "stdout",
     "output_type": "stream",
     "text": [
      "Model: \"sequential_2\"\n",
      "_________________________________________________________________\n",
      "Layer (type)                 Output Shape              Param #   \n",
      "=================================================================\n",
      "conv1d_3 (Conv1D)            (None, 128, 100)          6100      \n",
      "_________________________________________________________________\n",
      "activation_6 (Activation)    (None, 128, 100)          0         \n",
      "_________________________________________________________________\n",
      "conv1d_4 (Conv1D)            (None, 128, 150)          300150    \n",
      "_________________________________________________________________\n",
      "activation_7 (Activation)    (None, 128, 150)          0         \n",
      "_________________________________________________________________\n",
      "global_average_pooling1d_2 ( (None, 150)               0         \n",
      "_________________________________________________________________\n",
      "dense_4 (Dense)              (None, 128)               19328     \n",
      "_________________________________________________________________\n",
      "activation_8 (Activation)    (None, 128)               0         \n",
      "_________________________________________________________________\n",
      "dropout_3 (Dropout)          (None, 128)               0         \n",
      "_________________________________________________________________\n",
      "dense_5 (Dense)              (None, 5)                 645       \n",
      "_________________________________________________________________\n",
      "activation_9 (Activation)    (None, 5)                 0         \n",
      "=================================================================\n",
      "Total params: 326,223\n",
      "Trainable params: 326,223\n",
      "Non-trainable params: 0\n",
      "_________________________________________________________________\n"
     ]
    }
   ],
   "source": [
    "##num_labels, N = 5 neuron output\n",
    "model.add(Dense(num_labels))\n",
    "model.add(Activation('softmax'))\n",
    "model.summary()"
   ]
  },
  {
   "cell_type": "markdown",
   "metadata": {},
   "source": [
    "#### g. Compile the model, using ‘adam’ optimizer, loss as ‘categorical_crossentropy’, and metrics of [‘accuracy’]. "
   ]
  },
  {
   "cell_type": "code",
   "execution_count": 134,
   "metadata": {},
   "outputs": [],
   "source": [
    "model.compile(optimizer='adam',\n",
    "              loss='categorical_crossentropy',\n",
    "              metrics=['accuracy'])"
   ]
  },
  {
   "cell_type": "markdown",
   "metadata": {},
   "source": [
    "#### h. Fit (train) the model using the training [7352,128,6] features and train_label for 20 epoch. Specify a batch_size=256. (or smaller batch_size depending on your hardware) "
   ]
  },
  {
   "cell_type": "code",
   "execution_count": 135,
   "metadata": {},
   "outputs": [
    {
     "name": "stdout",
     "output_type": "stream",
     "text": [
      "Epoch 1/20\n",
      "7352/7352 [==============================] - 70s 9ms/step - loss: 0.7275 - accuracy: 0.6999\n",
      "Epoch 2/20\n",
      "7352/7352 [==============================] - 71s 10ms/step - loss: 0.2666 - accuracy: 0.8936\n",
      "Epoch 3/20\n",
      "7352/7352 [==============================] - 71s 10ms/step - loss: 0.1656 - accuracy: 0.9368\n",
      "Epoch 4/20\n",
      "7352/7352 [==============================] - 70s 10ms/step - loss: 0.1381 - accuracy: 0.9438\n",
      "Epoch 5/20\n",
      "7352/7352 [==============================] - 69s 9ms/step - loss: 0.1241 - accuracy: 0.9474\n",
      "Epoch 6/20\n",
      "7352/7352 [==============================] - 69s 9ms/step - loss: 0.1161 - accuracy: 0.9491\n",
      "Epoch 7/20\n",
      "7352/7352 [==============================] - 69s 9ms/step - loss: 0.1080 - accuracy: 0.9531\n",
      "Epoch 8/20\n",
      "7352/7352 [==============================] - 69s 9ms/step - loss: 0.1082 - accuracy: 0.9529\n",
      "Epoch 9/20\n",
      "7352/7352 [==============================] - 69s 9ms/step - loss: 0.1016 - accuracy: 0.9559\n",
      "Epoch 10/20\n",
      "7352/7352 [==============================] - 69s 9ms/step - loss: 0.0996 - accuracy: 0.9567\n",
      "Epoch 11/20\n",
      "7352/7352 [==============================] - 69s 9ms/step - loss: 0.0870 - accuracy: 0.9589\n",
      "Epoch 12/20\n",
      "7352/7352 [==============================] - 69s 9ms/step - loss: 0.0807 - accuracy: 0.9631\n",
      "Epoch 13/20\n",
      "7352/7352 [==============================] - 70s 10ms/step - loss: 0.0858 - accuracy: 0.9616\n",
      "Epoch 14/20\n",
      "7352/7352 [==============================] - 70s 10ms/step - loss: 0.0783 - accuracy: 0.9656\n",
      "Epoch 15/20\n",
      "7352/7352 [==============================] - 73s 10ms/step - loss: 0.0718 - accuracy: 0.9672\n",
      "Epoch 16/20\n",
      "7352/7352 [==============================] - 69s 9ms/step - loss: 0.0700 - accuracy: 0.9683\n",
      "Epoch 17/20\n",
      "7352/7352 [==============================] - 69s 9ms/step - loss: 0.0707 - accuracy: 0.9694\n",
      "Epoch 18/20\n",
      "7352/7352 [==============================] - 69s 9ms/step - loss: 0.0674 - accuracy: 0.9694\n",
      "Epoch 19/20\n",
      "7352/7352 [==============================] - 70s 10ms/step - loss: 0.0661 - accuracy: 0.9702\n",
      "Epoch 20/20\n",
      "7352/7352 [==============================] - 70s 10ms/step - loss: 0.0616 - accuracy: 0.9712\n"
     ]
    }
   ],
   "source": [
    "history = model.fit(TrainData1, train_labels_enc, batch_size= 256, epochs=20)  \n"
   ]
  },
  {
   "cell_type": "markdown",
   "metadata": {},
   "source": [
    "#### i. Evaluate the results of the model on the [2549,128,6] test feature and test_label."
   ]
  },
  {
   "cell_type": "code",
   "execution_count": 136,
   "metadata": {},
   "outputs": [
    {
     "name": "stdout",
     "output_type": "stream",
     "text": [
      "\n",
      "Test loss: 0.4555106203815857\n",
      "\n",
      "Test accuracy: 91.00780487060547\n"
     ]
    }
   ],
   "source": [
    "test_loss, test_acc = model.evaluate(TestData1,test_labels_enc, verbose=2)\n",
    "print('\\nTest loss:', test_loss)  \n",
    "print('\\nTest accuracy:', (test_acc*100))"
   ]
  },
  {
   "cell_type": "markdown",
   "metadata": {},
   "source": [
    "### Anal\n"
   ]
  },
  {
   "cell_type": "markdown",
   "metadata": {},
   "source": [
    "#### a. Print the model.summary(). For each layer, using the output shape as a guide, verify the number of parameters (Param #) is correct. \n",
    "<b/>i. Hint 1: In the conv layers, each filter has a certain number of neurons for the convolution weights per [num_attributes], \n",
    "<br/>ii. Hint 2: https://keras.io/layers/pooling/ \n",
    "<br/>iii. Hint 3: Dense layers: output = Wx+b "
   ]
  },
  {
   "cell_type": "code",
   "execution_count": 137,
   "metadata": {},
   "outputs": [
    {
     "name": "stdout",
     "output_type": "stream",
     "text": [
      "Model: \"sequential_2\"\n",
      "_________________________________________________________________\n",
      "Layer (type)                 Output Shape              Param #   \n",
      "=================================================================\n",
      "conv1d_3 (Conv1D)            (None, 128, 100)          6100      \n",
      "_________________________________________________________________\n",
      "activation_6 (Activation)    (None, 128, 100)          0         \n",
      "_________________________________________________________________\n",
      "conv1d_4 (Conv1D)            (None, 128, 150)          300150    \n",
      "_________________________________________________________________\n",
      "activation_7 (Activation)    (None, 128, 150)          0         \n",
      "_________________________________________________________________\n",
      "global_average_pooling1d_2 ( (None, 150)               0         \n",
      "_________________________________________________________________\n",
      "dense_4 (Dense)              (None, 128)               19328     \n",
      "_________________________________________________________________\n",
      "activation_8 (Activation)    (None, 128)               0         \n",
      "_________________________________________________________________\n",
      "dropout_3 (Dropout)          (None, 128)               0         \n",
      "_________________________________________________________________\n",
      "dense_5 (Dense)              (None, 5)                 645       \n",
      "_________________________________________________________________\n",
      "activation_9 (Activation)    (None, 5)                 0         \n",
      "=================================================================\n",
      "Total params: 326,223\n",
      "Trainable params: 326,223\n",
      "Non-trainable params: 0\n",
      "_________________________________________________________________\n"
     ]
    }
   ],
   "source": [
    "model.summary()"
   ]
  },
  {
   "cell_type": "code",
   "execution_count": 138,
   "metadata": {},
   "outputs": [
    {
     "name": "stdout",
     "output_type": "stream",
     "text": [
      "The formula is : input channels * weights *filters + biases\n",
      "The formula is :  inputs * outputs (x) + biases(b) \n",
      "\n",
      "\n",
      "For Layer 1: \n",
      "input channels = 6,\n",
      "weights = 10 ,\n",
      "filters = 100 ,\n",
      "biases = 100(1 per filter)\n",
      "Param Number = 6100\n",
      "\n",
      "  \n",
      "For Layer 2: \n",
      "input channels = 100,\n",
      "weights = 20 ,\n",
      "filters = 150 ,\n",
      "biases = 150(1 per filter)\n",
      "Param Number = 300150\n",
      "\n",
      "  \n",
      "For Layer 3: \n",
      "inputs = 20 ,\n",
      "outputs = 128 ,\n",
      "biases = 128 \n",
      "Param Number = 19328\n",
      "\n",
      "  \n",
      "For Layer 4: \n",
      "inputs = 128 ,\n",
      "outputs = 128 ,\n",
      "biases = 128 \n",
      "Param Number = 16512\n",
      "\n",
      "  \n",
      "For Layer 5: \n",
      "inputs = 128 ,\n",
      "outputs = 5 ,\n",
      "biases = 5 \n",
      "Param Number = 645\n",
      "\n",
      "  \n"
     ]
    }
   ],
   "source": [
    "print ('The formula is : input channels * weights *filters + biases')\n",
    "print ('The formula is :  inputs * outputs (x) + biases(b) \\n\\n')\n",
    "\n",
    "\n",
    "print('For Layer 1: \\n' \n",
    "      'input channels = 6,\\n'\n",
    "      'weights = 10 ,\\n' \n",
    "      'filters = 100 ,\\n'\n",
    "      'biases = 100(1 per filter)\\n'\n",
    "      'Param Number = %d' % (6*10*100+100))\n",
    "print ('''\n",
    "  ''')\n",
    "\n",
    "\n",
    "print('For Layer 2: \\n' \n",
    "      'input channels = 100,\\n'\n",
    "      'weights = 20 ,\\n' \n",
    "      'filters = 150 ,\\n'\n",
    "      'biases = 150(1 per filter)\\n'\n",
    "      'Param Number = %d' % (100*20*150+150))\n",
    "print ('''\n",
    "  ''')\n",
    "\n",
    "print('For Layer 3: \\n' \n",
    "      'inputs = 20 ,\\n' \n",
    "      'outputs = 128 ,\\n'\n",
    "      'biases = 128 \\n'\n",
    "      'Param Number = %d' % (150*128+128))\n",
    "print ('''\n",
    "  ''')\n",
    "\n",
    "\n",
    "print('For Layer 4: \\n' \n",
    "      'inputs = 128 ,\\n' \n",
    "      'outputs = 128 ,\\n'\n",
    "      'biases = 128 \\n'\n",
    "      'Param Number = %d' % (128*128+128))\n",
    "print ('''\n",
    "  ''')\n",
    "\n",
    "print('For Layer 5: \\n' \n",
    "      'inputs = 128 ,\\n' \n",
    "      'outputs = 5 ,\\n'\n",
    "      'biases = 5 \\n'\n",
    "      'Param Number = %d' % (128*5+5))\n",
    "print ('''\n",
    "  ''')\n",
    "\n"
   ]
  },
  {
   "cell_type": "markdown",
   "metadata": {},
   "source": [
    "#### b. Plot the training cross entropy loss, the training accuracy with the number of epoch (full iterations over dataset) in the data."
   ]
  },
  {
   "cell_type": "code",
   "execution_count": 139,
   "metadata": {},
   "outputs": [
    {
     "name": "stdout",
     "output_type": "stream",
     "text": [
      "dict_keys(['loss', 'accuracy'])\n"
     ]
    },
    {
     "data": {
      "text/plain": [
       "<matplotlib.legend.Legend at 0x1a41974128>"
      ]
     },
     "execution_count": 139,
     "metadata": {},
     "output_type": "execute_result"
    },
    {
     "data": {
      "image/png": "[encoded data removed]",
      "text/plain": [
       "<Figure size 432x288 with 1 Axes>"
      ]
     },
     "metadata": {
      "needs_background": "light"
     },
     "output_type": "display_data"
    }
   ],
   "source": [
    "print(history.history.keys())\n",
    "plt.plot(history.history['loss'])\n",
    "plt.plot(history.history['accuracy']) \n",
    "plt.title('Model training cross entropy loss & training accuracy')\n",
    "plt.xlabel('Epoch')\n",
    "plt.legend(['loss', 'accuracy'], loc='center right')"
   ]
  },
  {
   "cell_type": "markdown",
   "metadata": {},
   "source": [
    "#### c. Output the confusion matrix and accuracy for both training and test data with deep neural network. "
   ]
  },
  {
   "cell_type": "code",
   "execution_count": 140,
   "metadata": {},
   "outputs": [
    {
     "name": "stdout",
     "output_type": "stream",
     "text": [
      "Accuracy for training set for neural network = 0.9789173014145811\n",
      "The confusion matrix for training set for neural network is\n",
      " [[1407    0    0    0    0]\n",
      " [   0 1207    0   79    0]\n",
      " [   0    0 2059    0    0]\n",
      " [   0   74    0 1300    0]\n",
      " [   0    0    2    0 1224]]\n",
      "\n",
      "Accuracy for test set for neural network = 0.9100780454699695\n",
      "The confusion matrix for test set for neural network is\n",
      " [[537   0   0   0   0]\n",
      " [  0 401  25  65   0]\n",
      " [  0   0 869   0  22]\n",
      " [  0  96   3 431   2]\n",
      " [  0   0  52   0 444]]\n"
     ]
    }
   ],
   "source": [
    "y_pred_test = model.predict (TestData1)\n",
    "cm_test = confusion_matrix(test_labels_enc.argmax(axis=1), y_pred_test.argmax(axis=1))\n",
    "\n",
    "y_pred_train = model.predict(TrainData1)\n",
    "cm_train = confusion_matrix(train_labels_enc.argmax(axis=1), y_pred_train.argmax(axis=1))\n",
    "\n",
    "\n",
    "print('Accuracy for training set for neural network = {}'.format((np.trace(cm_train))/len(train_labels_enc)))\n",
    "print('The confusion matrix for training set for neural network is\\n',cm_train)\n",
    "\n",
    "print()\n",
    "\n",
    "print('Accuracy for test set for neural network = {}'.format((np.trace(cm_test))/len(test_labels_enc)))\n",
    "print('The confusion matrix for test set for neural network is\\n', cm_test)"
   ]
  },
  {
   "cell_type": "markdown",
   "metadata": {},
   "source": [
    "#### d. Output the softmax probability of the first 5 test samples and compare with true label. "
   ]
  },
  {
   "cell_type": "code",
   "execution_count": 141,
   "metadata": {},
   "outputs": [
    {
     "name": "stdout",
     "output_type": "stream",
     "text": [
      "The Predicted output for first 5 test samples is \n",
      " [3, 3, 3, 3, 3]\n",
      "The Actual output for firsr 5 test samples is \n",
      " [3 3 3 3 3]\n"
     ]
    }
   ],
   "source": [
    "predict = model.predict (TestData1 [0:5])\n",
    "\n",
    "\n",
    "print ('The Predicted output for first 5 test samples is \\n' ,[np.argmax(x) for x in predict])\n",
    "print ('The Actual output for firsr 5 test samples is \\n', test_labels[0:5].reshape(-1))"
   ]
  },
  {
   "cell_type": "markdown",
   "metadata": {},
   "source": [
    "#### e. For the deep neural network, based on confusion matrix and previous analysis, which classes of activities are the most difficult and which ones conversely are easy to “classify”? "
   ]
  },
  {
   "cell_type": "code",
   "execution_count": 142,
   "metadata": {},
   "outputs": [
    {
     "name": "stdout",
     "output_type": "stream",
     "text": [
      "                 precision    recall  f1-score   support\n",
      "\n",
      "         Laying       1.00      1.00      1.00       537\n",
      "        Sitting       0.81      0.82      0.81       491\n",
      "Climbing Stairs       0.92      0.98      0.94       891\n",
      "       Standing       0.87      0.81      0.84       532\n",
      "        Walking       0.95      0.90      0.92       496\n",
      "\n",
      "       accuracy                           0.91      2947\n",
      "      macro avg       0.91      0.90      0.90      2947\n",
      "   weighted avg       0.91      0.91      0.91      2947\n",
      "\n"
     ]
    }
   ],
   "source": [
    "label = ['Laying', 'Sitting', 'Climbing Stairs', 'Standing', 'Walking']\n",
    "\n",
    "\n",
    "result=metrics.classification_report(test_labels, y_pred_test.argmax(axis = 1), labels=None, target_names= label, \n",
    "                                      sample_weight=None, digits=2, output_dict=False)\n",
    "print (result)"
   ]
  },
  {
   "cell_type": "markdown",
   "metadata": {},
   "source": [
    "The easiest activity to classify is Laying.\n",
    "<br/>Sitting and Standing are the most to difficult to classify.\n",
    "<br/>Climbing stairs and Walking are often confused and are also hard to classify."
   ]
  },
  {
   "cell_type": "markdown",
   "metadata": {},
   "source": [
    "#### f. What parameters are modifiable to the analyst in a deep neural network? You may use terminology used in the Keras libraries to guide your answer. "
   ]
  },
  {
   "cell_type": "markdown",
   "metadata": {},
   "source": [
    "The learning rate can be changed, The number of epochs can be increased, number of layers increased, sgd optimizer could be used, regularization can be introduced, differnt activations could have been used also, loss functions, and performance metrics also changed"
   ]
  },
  {
   "cell_type": "markdown",
   "metadata": {},
   "source": [
    "#### g. Discuss any advantages or applications of using convolutional layers over choosing hand-crafted statistical features (i.e. mean, standard deviation). *Note that the current dataset, the task (predicting the activity) is already quite separable with the hand-crafted features [Assignment 3 from the 3D plots]."
   ]
  },
  {
   "cell_type": "markdown",
   "metadata": {},
   "source": [
    "Convolutional layers can be used for image recognition where the features are not easily classifiable. In CNN, the features are learned by the classifier and this comes very handy in image recognition which annot be easily hand crafted."
   ]
  }
 ],
 "metadata": {
  "kernelspec": {
   "display_name": "Python 3",
   "language": "python",
   "name": "python3"
  },
  "language_info": {
   "codemirror_mode": {
    "name": "ipython",
    "version": 3
   },
   "file_extension": ".py",
   "mimetype": "text/x-python",
   "name": "python",
   "nbconvert_exporter": "python",
   "pygments_lexer": "ipython3",
   "version": "3.7.3"
  }
 },
 "nbformat": 4,
 "nbformat_minor": 2
}
